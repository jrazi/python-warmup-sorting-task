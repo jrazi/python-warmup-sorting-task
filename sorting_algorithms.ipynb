{
 "cells": [
  {
   "cell_type": "markdown",
   "metadata": {},
   "source": [
    "# Overview\n",
    "In this task you are going to implement 3 different simple sorting algorithms (Bubble Sort, Insertion Sort, Selection Sort). You will test them with simple data at first to ensure their correctness. Then, you will compare their performance various input data, visualize the comparison results, and report which types of input each algorithm works better on. "
   ]
  },
  {
   "cell_type": "markdown",
   "metadata": {},
   "source": [
    "# Base Class\n",
    "Below is a the base sorting class you're going to implement. For each one your sorting algorithms should extend the class and implement the specific algorithm.\n",
    "\n",
    "**Pleae note that the sorting should not be inplace; The given list should not be modified. Instead, a new sorted list must be returned by the `sort` function.** "
   ]
  },
  {
   "cell_type": "code",
   "execution_count": 126,
   "metadata": {},
   "outputs": [],
   "source": [
    "from abc import ABC, abstractmethod\n",
    "\n",
    "class BaseSort(ABC):\n",
    "    @abstractmethod\n",
    "    def sort(self, data):\n",
    "        \"\"\"\n",
    "        Sorts the input data in ascending order.\n",
    "        \n",
    "        :param data: A list of numbers to be sorted.\n",
    "        :return: A new list containing the sorted numbers.\n",
    "        \"\"\"\n",
    "        pass\n",
    "    \n",
    "    def __call__(self, data):\n",
    "        return self.sort(data)\n"
   ]
  },
  {
   "cell_type": "markdown",
   "metadata": {},
   "source": [
    "<hr>"
   ]
  },
  {
   "cell_type": "markdown",
   "metadata": {},
   "source": [
    "# Implementing Sorting Algorithms"
   ]
  },
  {
   "cell_type": "markdown",
   "metadata": {},
   "source": [
    "## A. Testing Algorithm Correctness\n",
    "To ensure that your sorting algorithms work, here is a test class that takes a sorter object, and test dataset in the constructor, and evaluates whether or not the sorting algorithm works correctly on test data. "
   ]
  },
  {
   "cell_type": "code",
   "execution_count": 127,
   "metadata": {},
   "outputs": [],
   "source": [
    "from IPython.display import HTML, display\n",
    "from copy import deepcopy\n",
    "\n",
    "class TestSort:\n",
    "    def test_sort(self, sorter, test_cases):\n",
    "        passed = 0\n",
    "        total = len(test_cases)\n",
    "        display(HTML(f'Test Results:'))\n",
    "        for i, test_case in enumerate(test_cases):\n",
    "            data = deepcopy(test_case)\n",
    "            sorted_data = sorter.sort(data)\n",
    "            if sorted_data == sorted(test_case) and data == test_case:\n",
    "                display(HTML(f'Test case {i+1:<2} <b><font size=\"1.05em\" color=\"green\"> PASSED</font></b>'))\n",
    "                passed += 1\n",
    "            else:\n",
    "                display(HTML(f'Test case {i+1:<2} <b><font size=\"1.05em\" color=\"red\"> FAILED</font></b>'))\n",
    "                display(HTML(f'  <b>Input:</b> {test_case}'))\n",
    "                display(HTML(f'  <b>Expected output:</b> {sorted(test_case)}'))\n",
    "                display(HTML(f'  <b>Actual output:</b> {sorted_data}'))\n",
    "        print(f'\\n{passed} out of {total} test cases passed')\n",
    "        if passed == total:\n",
    "            print('All tests passed!')\n",
    "        else:\n",
    "            print('Some tests failed')\n"
   ]
  },
  {
   "cell_type": "markdown",
   "metadata": {},
   "source": [
    "### A.1. Testcases\n",
    "To ensure that the sorting algorithm works correctly, here is a minimal testset. You should test your implementation using `TestSortClass`, and with this predefined, simple testset. "
   ]
  },
  {
   "cell_type": "code",
   "execution_count": 128,
   "metadata": {},
   "outputs": [],
   "source": [
    "test_cases = [\n",
    "    [],\n",
    "    [1],\n",
    "    [1, 2],\n",
    "    [2, 1],\n",
    "    [1, 2, 3],\n",
    "    [3, 2, 1],\n",
    "    [1, 2, 3, 4],\n",
    "    [4, 2, 3, 1],\n",
    "    [1, 2, 3, 4, 5],\n",
    "    [3, 5, 4, 1, 2],\n",
    "    [-5, -4, -3, -2, -1],\n",
    "    [-3, -5, 3, -1, -2]\n",
    "]"
   ]
  },
  {
   "cell_type": "markdown",
   "metadata": {},
   "source": [
    "<hr>"
   ]
  },
  {
   "cell_type": "markdown",
   "metadata": {},
   "source": [
    "## Selection Sort"
   ]
  },
  {
   "cell_type": "markdown",
   "metadata": {},
   "source": [
    "### Overview of How Selection Sort Works\n",
    "\n",
    "you should modify this section and describe in one (at most two) paragraph how selection sort works. "
   ]
  },
  {
   "cell_type": "code",
   "execution_count": 129,
   "metadata": {},
   "outputs": [],
   "source": [
    "class SelectionSort(BaseSort):\n",
    "    def sort(self, data):\n",
    "        # TODO Implement selection sort algorithm here\n",
    "        return data\n"
   ]
  },
  {
   "cell_type": "markdown",
   "metadata": {},
   "source": [
    "### Test The Algorithm\n",
    "Below code will test your implementation against the defined testcases in the previous section. Please ensure that all the tests pass. "
   ]
  },
  {
   "cell_type": "code",
   "execution_count": 130,
   "metadata": {},
   "outputs": [
    {
     "data": {
      "text/html": [
       "Test Results:"
      ],
      "text/plain": [
       "<IPython.core.display.HTML object>"
      ]
     },
     "metadata": {},
     "output_type": "display_data"
    },
    {
     "data": {
      "text/html": [
       "Test case 1  <b><font size=\"1.05em\" color=\"green\"> PASSED</font></b>"
      ],
      "text/plain": [
       "<IPython.core.display.HTML object>"
      ]
     },
     "metadata": {},
     "output_type": "display_data"
    },
    {
     "data": {
      "text/html": [
       "Test case 2  <b><font size=\"1.05em\" color=\"green\"> PASSED</font></b>"
      ],
      "text/plain": [
       "<IPython.core.display.HTML object>"
      ]
     },
     "metadata": {},
     "output_type": "display_data"
    },
    {
     "data": {
      "text/html": [
       "Test case 3  <b><font size=\"1.05em\" color=\"green\"> PASSED</font></b>"
      ],
      "text/plain": [
       "<IPython.core.display.HTML object>"
      ]
     },
     "metadata": {},
     "output_type": "display_data"
    },
    {
     "data": {
      "text/html": [
       "Test case 4  <b><font size=\"1.05em\" color=\"red\"> FAILED</font></b>"
      ],
      "text/plain": [
       "<IPython.core.display.HTML object>"
      ]
     },
     "metadata": {},
     "output_type": "display_data"
    },
    {
     "data": {
      "text/html": [
       "  <b>Input:</b> [2, 1]"
      ],
      "text/plain": [
       "<IPython.core.display.HTML object>"
      ]
     },
     "metadata": {},
     "output_type": "display_data"
    },
    {
     "data": {
      "text/html": [
       "  <b>Expected output:</b> [1, 2]"
      ],
      "text/plain": [
       "<IPython.core.display.HTML object>"
      ]
     },
     "metadata": {},
     "output_type": "display_data"
    },
    {
     "data": {
      "text/html": [
       "  <b>Actual output:</b> [2, 1]"
      ],
      "text/plain": [
       "<IPython.core.display.HTML object>"
      ]
     },
     "metadata": {},
     "output_type": "display_data"
    },
    {
     "data": {
      "text/html": [
       "Test case 5  <b><font size=\"1.05em\" color=\"green\"> PASSED</font></b>"
      ],
      "text/plain": [
       "<IPython.core.display.HTML object>"
      ]
     },
     "metadata": {},
     "output_type": "display_data"
    },
    {
     "data": {
      "text/html": [
       "Test case 6  <b><font size=\"1.05em\" color=\"red\"> FAILED</font></b>"
      ],
      "text/plain": [
       "<IPython.core.display.HTML object>"
      ]
     },
     "metadata": {},
     "output_type": "display_data"
    },
    {
     "data": {
      "text/html": [
       "  <b>Input:</b> [3, 2, 1]"
      ],
      "text/plain": [
       "<IPython.core.display.HTML object>"
      ]
     },
     "metadata": {},
     "output_type": "display_data"
    },
    {
     "data": {
      "text/html": [
       "  <b>Expected output:</b> [1, 2, 3]"
      ],
      "text/plain": [
       "<IPython.core.display.HTML object>"
      ]
     },
     "metadata": {},
     "output_type": "display_data"
    },
    {
     "data": {
      "text/html": [
       "  <b>Actual output:</b> [3, 2, 1]"
      ],
      "text/plain": [
       "<IPython.core.display.HTML object>"
      ]
     },
     "metadata": {},
     "output_type": "display_data"
    },
    {
     "data": {
      "text/html": [
       "Test case 7  <b><font size=\"1.05em\" color=\"green\"> PASSED</font></b>"
      ],
      "text/plain": [
       "<IPython.core.display.HTML object>"
      ]
     },
     "metadata": {},
     "output_type": "display_data"
    },
    {
     "data": {
      "text/html": [
       "Test case 8  <b><font size=\"1.05em\" color=\"red\"> FAILED</font></b>"
      ],
      "text/plain": [
       "<IPython.core.display.HTML object>"
      ]
     },
     "metadata": {},
     "output_type": "display_data"
    },
    {
     "data": {
      "text/html": [
       "  <b>Input:</b> [4, 2, 3, 1]"
      ],
      "text/plain": [
       "<IPython.core.display.HTML object>"
      ]
     },
     "metadata": {},
     "output_type": "display_data"
    },
    {
     "data": {
      "text/html": [
       "  <b>Expected output:</b> [1, 2, 3, 4]"
      ],
      "text/plain": [
       "<IPython.core.display.HTML object>"
      ]
     },
     "metadata": {},
     "output_type": "display_data"
    },
    {
     "data": {
      "text/html": [
       "  <b>Actual output:</b> [4, 2, 3, 1]"
      ],
      "text/plain": [
       "<IPython.core.display.HTML object>"
      ]
     },
     "metadata": {},
     "output_type": "display_data"
    },
    {
     "data": {
      "text/html": [
       "Test case 9  <b><font size=\"1.05em\" color=\"green\"> PASSED</font></b>"
      ],
      "text/plain": [
       "<IPython.core.display.HTML object>"
      ]
     },
     "metadata": {},
     "output_type": "display_data"
    },
    {
     "data": {
      "text/html": [
       "Test case 10 <b><font size=\"1.05em\" color=\"red\"> FAILED</font></b>"
      ],
      "text/plain": [
       "<IPython.core.display.HTML object>"
      ]
     },
     "metadata": {},
     "output_type": "display_data"
    },
    {
     "data": {
      "text/html": [
       "  <b>Input:</b> [3, 5, 4, 1, 2]"
      ],
      "text/plain": [
       "<IPython.core.display.HTML object>"
      ]
     },
     "metadata": {},
     "output_type": "display_data"
    },
    {
     "data": {
      "text/html": [
       "  <b>Expected output:</b> [1, 2, 3, 4, 5]"
      ],
      "text/plain": [
       "<IPython.core.display.HTML object>"
      ]
     },
     "metadata": {},
     "output_type": "display_data"
    },
    {
     "data": {
      "text/html": [
       "  <b>Actual output:</b> [3, 5, 4, 1, 2]"
      ],
      "text/plain": [
       "<IPython.core.display.HTML object>"
      ]
     },
     "metadata": {},
     "output_type": "display_data"
    },
    {
     "data": {
      "text/html": [
       "Test case 11 <b><font size=\"1.05em\" color=\"green\"> PASSED</font></b>"
      ],
      "text/plain": [
       "<IPython.core.display.HTML object>"
      ]
     },
     "metadata": {},
     "output_type": "display_data"
    },
    {
     "data": {
      "text/html": [
       "Test case 12 <b><font size=\"1.05em\" color=\"red\"> FAILED</font></b>"
      ],
      "text/plain": [
       "<IPython.core.display.HTML object>"
      ]
     },
     "metadata": {},
     "output_type": "display_data"
    },
    {
     "data": {
      "text/html": [
       "  <b>Input:</b> [-3, -5, 3, -1, -2]"
      ],
      "text/plain": [
       "<IPython.core.display.HTML object>"
      ]
     },
     "metadata": {},
     "output_type": "display_data"
    },
    {
     "data": {
      "text/html": [
       "  <b>Expected output:</b> [-5, -3, -2, -1, 3]"
      ],
      "text/plain": [
       "<IPython.core.display.HTML object>"
      ]
     },
     "metadata": {},
     "output_type": "display_data"
    },
    {
     "data": {
      "text/html": [
       "  <b>Actual output:</b> [-3, -5, 3, -1, -2]"
      ],
      "text/plain": [
       "<IPython.core.display.HTML object>"
      ]
     },
     "metadata": {},
     "output_type": "display_data"
    },
    {
     "name": "stdout",
     "output_type": "stream",
     "text": [
      "\n",
      "7 out of 12 test cases passed\n",
      "Some tests failed\n"
     ]
    }
   ],
   "source": [
    "TestSort().test_sort(SelectionSort(), test_cases)"
   ]
  },
  {
   "cell_type": "markdown",
   "metadata": {},
   "source": [
    "<hr>"
   ]
  },
  {
   "cell_type": "markdown",
   "metadata": {},
   "source": [
    "## Bubble Sort"
   ]
  },
  {
   "cell_type": "markdown",
   "metadata": {},
   "source": [
    "### Overview of How Bubble Sort Works\n",
    "\n",
    "Complete this section like the previous one. "
   ]
  },
  {
   "cell_type": "code",
   "execution_count": 131,
   "metadata": {},
   "outputs": [],
   "source": [
    "class BubbleSort(BaseSort):\n",
    "    def sort(self, data):\n",
    "        # TODO Implement selection sort algorithm here\n",
    "        return data\n"
   ]
  },
  {
   "cell_type": "markdown",
   "metadata": {},
   "source": [
    "### Test The Algorithm\n",
    "Ensure that all the test pass. "
   ]
  },
  {
   "cell_type": "code",
   "execution_count": 132,
   "metadata": {},
   "outputs": [
    {
     "data": {
      "text/html": [
       "Test Results:"
      ],
      "text/plain": [
       "<IPython.core.display.HTML object>"
      ]
     },
     "metadata": {},
     "output_type": "display_data"
    },
    {
     "data": {
      "text/html": [
       "Test case 1  <b><font size=\"1.05em\" color=\"green\"> PASSED</font></b>"
      ],
      "text/plain": [
       "<IPython.core.display.HTML object>"
      ]
     },
     "metadata": {},
     "output_type": "display_data"
    },
    {
     "data": {
      "text/html": [
       "Test case 2  <b><font size=\"1.05em\" color=\"green\"> PASSED</font></b>"
      ],
      "text/plain": [
       "<IPython.core.display.HTML object>"
      ]
     },
     "metadata": {},
     "output_type": "display_data"
    },
    {
     "data": {
      "text/html": [
       "Test case 3  <b><font size=\"1.05em\" color=\"green\"> PASSED</font></b>"
      ],
      "text/plain": [
       "<IPython.core.display.HTML object>"
      ]
     },
     "metadata": {},
     "output_type": "display_data"
    },
    {
     "data": {
      "text/html": [
       "Test case 4  <b><font size=\"1.05em\" color=\"red\"> FAILED</font></b>"
      ],
      "text/plain": [
       "<IPython.core.display.HTML object>"
      ]
     },
     "metadata": {},
     "output_type": "display_data"
    },
    {
     "data": {
      "text/html": [
       "  <b>Input:</b> [2, 1]"
      ],
      "text/plain": [
       "<IPython.core.display.HTML object>"
      ]
     },
     "metadata": {},
     "output_type": "display_data"
    },
    {
     "data": {
      "text/html": [
       "  <b>Expected output:</b> [1, 2]"
      ],
      "text/plain": [
       "<IPython.core.display.HTML object>"
      ]
     },
     "metadata": {},
     "output_type": "display_data"
    },
    {
     "data": {
      "text/html": [
       "  <b>Actual output:</b> [2, 1]"
      ],
      "text/plain": [
       "<IPython.core.display.HTML object>"
      ]
     },
     "metadata": {},
     "output_type": "display_data"
    },
    {
     "data": {
      "text/html": [
       "Test case 5  <b><font size=\"1.05em\" color=\"green\"> PASSED</font></b>"
      ],
      "text/plain": [
       "<IPython.core.display.HTML object>"
      ]
     },
     "metadata": {},
     "output_type": "display_data"
    },
    {
     "data": {
      "text/html": [
       "Test case 6  <b><font size=\"1.05em\" color=\"red\"> FAILED</font></b>"
      ],
      "text/plain": [
       "<IPython.core.display.HTML object>"
      ]
     },
     "metadata": {},
     "output_type": "display_data"
    },
    {
     "data": {
      "text/html": [
       "  <b>Input:</b> [3, 2, 1]"
      ],
      "text/plain": [
       "<IPython.core.display.HTML object>"
      ]
     },
     "metadata": {},
     "output_type": "display_data"
    },
    {
     "data": {
      "text/html": [
       "  <b>Expected output:</b> [1, 2, 3]"
      ],
      "text/plain": [
       "<IPython.core.display.HTML object>"
      ]
     },
     "metadata": {},
     "output_type": "display_data"
    },
    {
     "data": {
      "text/html": [
       "  <b>Actual output:</b> [3, 2, 1]"
      ],
      "text/plain": [
       "<IPython.core.display.HTML object>"
      ]
     },
     "metadata": {},
     "output_type": "display_data"
    },
    {
     "data": {
      "text/html": [
       "Test case 7  <b><font size=\"1.05em\" color=\"green\"> PASSED</font></b>"
      ],
      "text/plain": [
       "<IPython.core.display.HTML object>"
      ]
     },
     "metadata": {},
     "output_type": "display_data"
    },
    {
     "data": {
      "text/html": [
       "Test case 8  <b><font size=\"1.05em\" color=\"red\"> FAILED</font></b>"
      ],
      "text/plain": [
       "<IPython.core.display.HTML object>"
      ]
     },
     "metadata": {},
     "output_type": "display_data"
    },
    {
     "data": {
      "text/html": [
       "  <b>Input:</b> [4, 2, 3, 1]"
      ],
      "text/plain": [
       "<IPython.core.display.HTML object>"
      ]
     },
     "metadata": {},
     "output_type": "display_data"
    },
    {
     "data": {
      "text/html": [
       "  <b>Expected output:</b> [1, 2, 3, 4]"
      ],
      "text/plain": [
       "<IPython.core.display.HTML object>"
      ]
     },
     "metadata": {},
     "output_type": "display_data"
    },
    {
     "data": {
      "text/html": [
       "  <b>Actual output:</b> [4, 2, 3, 1]"
      ],
      "text/plain": [
       "<IPython.core.display.HTML object>"
      ]
     },
     "metadata": {},
     "output_type": "display_data"
    },
    {
     "data": {
      "text/html": [
       "Test case 9  <b><font size=\"1.05em\" color=\"green\"> PASSED</font></b>"
      ],
      "text/plain": [
       "<IPython.core.display.HTML object>"
      ]
     },
     "metadata": {},
     "output_type": "display_data"
    },
    {
     "data": {
      "text/html": [
       "Test case 10 <b><font size=\"1.05em\" color=\"red\"> FAILED</font></b>"
      ],
      "text/plain": [
       "<IPython.core.display.HTML object>"
      ]
     },
     "metadata": {},
     "output_type": "display_data"
    },
    {
     "data": {
      "text/html": [
       "  <b>Input:</b> [3, 5, 4, 1, 2]"
      ],
      "text/plain": [
       "<IPython.core.display.HTML object>"
      ]
     },
     "metadata": {},
     "output_type": "display_data"
    },
    {
     "data": {
      "text/html": [
       "  <b>Expected output:</b> [1, 2, 3, 4, 5]"
      ],
      "text/plain": [
       "<IPython.core.display.HTML object>"
      ]
     },
     "metadata": {},
     "output_type": "display_data"
    },
    {
     "data": {
      "text/html": [
       "  <b>Actual output:</b> [3, 5, 4, 1, 2]"
      ],
      "text/plain": [
       "<IPython.core.display.HTML object>"
      ]
     },
     "metadata": {},
     "output_type": "display_data"
    },
    {
     "data": {
      "text/html": [
       "Test case 11 <b><font size=\"1.05em\" color=\"green\"> PASSED</font></b>"
      ],
      "text/plain": [
       "<IPython.core.display.HTML object>"
      ]
     },
     "metadata": {},
     "output_type": "display_data"
    },
    {
     "data": {
      "text/html": [
       "Test case 12 <b><font size=\"1.05em\" color=\"red\"> FAILED</font></b>"
      ],
      "text/plain": [
       "<IPython.core.display.HTML object>"
      ]
     },
     "metadata": {},
     "output_type": "display_data"
    },
    {
     "data": {
      "text/html": [
       "  <b>Input:</b> [-3, -5, 3, -1, -2]"
      ],
      "text/plain": [
       "<IPython.core.display.HTML object>"
      ]
     },
     "metadata": {},
     "output_type": "display_data"
    },
    {
     "data": {
      "text/html": [
       "  <b>Expected output:</b> [-5, -3, -2, -1, 3]"
      ],
      "text/plain": [
       "<IPython.core.display.HTML object>"
      ]
     },
     "metadata": {},
     "output_type": "display_data"
    },
    {
     "data": {
      "text/html": [
       "  <b>Actual output:</b> [-3, -5, 3, -1, -2]"
      ],
      "text/plain": [
       "<IPython.core.display.HTML object>"
      ]
     },
     "metadata": {},
     "output_type": "display_data"
    },
    {
     "name": "stdout",
     "output_type": "stream",
     "text": [
      "\n",
      "7 out of 12 test cases passed\n",
      "Some tests failed\n"
     ]
    }
   ],
   "source": [
    "TestSort().test_sort(BubbleSort(), test_cases)"
   ]
  },
  {
   "cell_type": "markdown",
   "metadata": {},
   "source": [
    "<hr>"
   ]
  },
  {
   "cell_type": "markdown",
   "metadata": {},
   "source": [
    "## Insertion Sort"
   ]
  },
  {
   "cell_type": "markdown",
   "metadata": {},
   "source": [
    "### Overview of How Insertion Sort Works\n",
    "\n",
    "Complete this section like the previous one. "
   ]
  },
  {
   "cell_type": "code",
   "execution_count": 133,
   "metadata": {},
   "outputs": [],
   "source": [
    "class InsertionSort(BaseSort):\n",
    "    def sort(self, data):\n",
    "        # TODO Implement selection sort algorithm here\n",
    "        return data\n"
   ]
  },
  {
   "cell_type": "markdown",
   "metadata": {},
   "source": [
    "### Test The Algorithm\n",
    "Ensure that all the test pass. "
   ]
  },
  {
   "cell_type": "code",
   "execution_count": 134,
   "metadata": {},
   "outputs": [
    {
     "data": {
      "text/html": [
       "Test Results:"
      ],
      "text/plain": [
       "<IPython.core.display.HTML object>"
      ]
     },
     "metadata": {},
     "output_type": "display_data"
    },
    {
     "data": {
      "text/html": [
       "Test case 1  <b><font size=\"1.05em\" color=\"green\"> PASSED</font></b>"
      ],
      "text/plain": [
       "<IPython.core.display.HTML object>"
      ]
     },
     "metadata": {},
     "output_type": "display_data"
    },
    {
     "data": {
      "text/html": [
       "Test case 2  <b><font size=\"1.05em\" color=\"green\"> PASSED</font></b>"
      ],
      "text/plain": [
       "<IPython.core.display.HTML object>"
      ]
     },
     "metadata": {},
     "output_type": "display_data"
    },
    {
     "data": {
      "text/html": [
       "Test case 3  <b><font size=\"1.05em\" color=\"green\"> PASSED</font></b>"
      ],
      "text/plain": [
       "<IPython.core.display.HTML object>"
      ]
     },
     "metadata": {},
     "output_type": "display_data"
    },
    {
     "data": {
      "text/html": [
       "Test case 4  <b><font size=\"1.05em\" color=\"red\"> FAILED</font></b>"
      ],
      "text/plain": [
       "<IPython.core.display.HTML object>"
      ]
     },
     "metadata": {},
     "output_type": "display_data"
    },
    {
     "data": {
      "text/html": [
       "  <b>Input:</b> [2, 1]"
      ],
      "text/plain": [
       "<IPython.core.display.HTML object>"
      ]
     },
     "metadata": {},
     "output_type": "display_data"
    },
    {
     "data": {
      "text/html": [
       "  <b>Expected output:</b> [1, 2]"
      ],
      "text/plain": [
       "<IPython.core.display.HTML object>"
      ]
     },
     "metadata": {},
     "output_type": "display_data"
    },
    {
     "data": {
      "text/html": [
       "  <b>Actual output:</b> [2, 1]"
      ],
      "text/plain": [
       "<IPython.core.display.HTML object>"
      ]
     },
     "metadata": {},
     "output_type": "display_data"
    },
    {
     "data": {
      "text/html": [
       "Test case 5  <b><font size=\"1.05em\" color=\"green\"> PASSED</font></b>"
      ],
      "text/plain": [
       "<IPython.core.display.HTML object>"
      ]
     },
     "metadata": {},
     "output_type": "display_data"
    },
    {
     "data": {
      "text/html": [
       "Test case 6  <b><font size=\"1.05em\" color=\"red\"> FAILED</font></b>"
      ],
      "text/plain": [
       "<IPython.core.display.HTML object>"
      ]
     },
     "metadata": {},
     "output_type": "display_data"
    },
    {
     "data": {
      "text/html": [
       "  <b>Input:</b> [3, 2, 1]"
      ],
      "text/plain": [
       "<IPython.core.display.HTML object>"
      ]
     },
     "metadata": {},
     "output_type": "display_data"
    },
    {
     "data": {
      "text/html": [
       "  <b>Expected output:</b> [1, 2, 3]"
      ],
      "text/plain": [
       "<IPython.core.display.HTML object>"
      ]
     },
     "metadata": {},
     "output_type": "display_data"
    },
    {
     "data": {
      "text/html": [
       "  <b>Actual output:</b> [3, 2, 1]"
      ],
      "text/plain": [
       "<IPython.core.display.HTML object>"
      ]
     },
     "metadata": {},
     "output_type": "display_data"
    },
    {
     "data": {
      "text/html": [
       "Test case 7  <b><font size=\"1.05em\" color=\"green\"> PASSED</font></b>"
      ],
      "text/plain": [
       "<IPython.core.display.HTML object>"
      ]
     },
     "metadata": {},
     "output_type": "display_data"
    },
    {
     "data": {
      "text/html": [
       "Test case 8  <b><font size=\"1.05em\" color=\"red\"> FAILED</font></b>"
      ],
      "text/plain": [
       "<IPython.core.display.HTML object>"
      ]
     },
     "metadata": {},
     "output_type": "display_data"
    },
    {
     "data": {
      "text/html": [
       "  <b>Input:</b> [4, 2, 3, 1]"
      ],
      "text/plain": [
       "<IPython.core.display.HTML object>"
      ]
     },
     "metadata": {},
     "output_type": "display_data"
    },
    {
     "data": {
      "text/html": [
       "  <b>Expected output:</b> [1, 2, 3, 4]"
      ],
      "text/plain": [
       "<IPython.core.display.HTML object>"
      ]
     },
     "metadata": {},
     "output_type": "display_data"
    },
    {
     "data": {
      "text/html": [
       "  <b>Actual output:</b> [4, 2, 3, 1]"
      ],
      "text/plain": [
       "<IPython.core.display.HTML object>"
      ]
     },
     "metadata": {},
     "output_type": "display_data"
    },
    {
     "data": {
      "text/html": [
       "Test case 9  <b><font size=\"1.05em\" color=\"green\"> PASSED</font></b>"
      ],
      "text/plain": [
       "<IPython.core.display.HTML object>"
      ]
     },
     "metadata": {},
     "output_type": "display_data"
    },
    {
     "data": {
      "text/html": [
       "Test case 10 <b><font size=\"1.05em\" color=\"red\"> FAILED</font></b>"
      ],
      "text/plain": [
       "<IPython.core.display.HTML object>"
      ]
     },
     "metadata": {},
     "output_type": "display_data"
    },
    {
     "data": {
      "text/html": [
       "  <b>Input:</b> [3, 5, 4, 1, 2]"
      ],
      "text/plain": [
       "<IPython.core.display.HTML object>"
      ]
     },
     "metadata": {},
     "output_type": "display_data"
    },
    {
     "data": {
      "text/html": [
       "  <b>Expected output:</b> [1, 2, 3, 4, 5]"
      ],
      "text/plain": [
       "<IPython.core.display.HTML object>"
      ]
     },
     "metadata": {},
     "output_type": "display_data"
    },
    {
     "data": {
      "text/html": [
       "  <b>Actual output:</b> [3, 5, 4, 1, 2]"
      ],
      "text/plain": [
       "<IPython.core.display.HTML object>"
      ]
     },
     "metadata": {},
     "output_type": "display_data"
    },
    {
     "data": {
      "text/html": [
       "Test case 11 <b><font size=\"1.05em\" color=\"green\"> PASSED</font></b>"
      ],
      "text/plain": [
       "<IPython.core.display.HTML object>"
      ]
     },
     "metadata": {},
     "output_type": "display_data"
    },
    {
     "data": {
      "text/html": [
       "Test case 12 <b><font size=\"1.05em\" color=\"red\"> FAILED</font></b>"
      ],
      "text/plain": [
       "<IPython.core.display.HTML object>"
      ]
     },
     "metadata": {},
     "output_type": "display_data"
    },
    {
     "data": {
      "text/html": [
       "  <b>Input:</b> [-3, -5, 3, -1, -2]"
      ],
      "text/plain": [
       "<IPython.core.display.HTML object>"
      ]
     },
     "metadata": {},
     "output_type": "display_data"
    },
    {
     "data": {
      "text/html": [
       "  <b>Expected output:</b> [-5, -3, -2, -1, 3]"
      ],
      "text/plain": [
       "<IPython.core.display.HTML object>"
      ]
     },
     "metadata": {},
     "output_type": "display_data"
    },
    {
     "data": {
      "text/html": [
       "  <b>Actual output:</b> [-3, -5, 3, -1, -2]"
      ],
      "text/plain": [
       "<IPython.core.display.HTML object>"
      ]
     },
     "metadata": {},
     "output_type": "display_data"
    },
    {
     "name": "stdout",
     "output_type": "stream",
     "text": [
      "\n",
      "7 out of 12 test cases passed\n",
      "Some tests failed\n"
     ]
    }
   ],
   "source": [
    "TestSort().test_sort(InsertionSort(), test_cases)"
   ]
  },
  {
   "cell_type": "markdown",
   "metadata": {},
   "source": [
    "<hr>"
   ]
  },
  {
   "cell_type": "markdown",
   "metadata": {},
   "source": [
    "# Comparing Performance\n",
    "In this section, you are going to implement code that measures the time complexity of each algorithm against inputs of different type and size, and report for each algorithm, in which contexts it outperforms the others. "
   ]
  },
  {
   "cell_type": "markdown",
   "metadata": {},
   "source": [
    "## Profiler Class\n",
    "The below class profiles the time and memory usage of a sorter object, against an input list. You will make use of this class in comparing and visualizing time and space complexity of your algorithms. "
   ]
  },
  {
   "cell_type": "code",
   "execution_count": 135,
   "metadata": {},
   "outputs": [],
   "source": [
    "import time\n",
    "import tracemalloc\n",
    "from IPython.display import HTML, display\n",
    "from copy import deepcopy\n",
    "from random import shuffle\n",
    "\n",
    "class Profiler:\n",
    "    def profile(self, sorter, data, display_pretty_output=False):\n",
    "        n_runs = 5\n",
    "        total_time = 0\n",
    "        total_memory = 0\n",
    "        \n",
    "        for i in range(n_runs):\n",
    "            shuffled_data = deepcopy(data)\n",
    "            shuffle(shuffled_data)\n",
    "            \n",
    "            tracemalloc.start()\n",
    "            start_time = time.time()\n",
    "            sorter.sort(shuffled_data)\n",
    "            end_time = time.time()\n",
    "            current, peak = tracemalloc.get_traced_memory()\n",
    "            tracemalloc.stop()\n",
    "            \n",
    "            total_time += end_time - start_time\n",
    "            total_memory += peak / 10**6\n",
    "        \n",
    "        avg_time = total_time / n_runs\n",
    "        avg_memory = total_memory / n_runs\n",
    "        \n",
    "        if display_pretty_output:\n",
    "            display(HTML(f'<b>Average time taken:</b> {avg_time:.6f} seconds'))\n",
    "            display(HTML(f'<b>Average memory used:</b> {avg_memory:.6f} MB'))\n",
    "        \n",
    "        return {'time': avg_time, 'memory': avg_memory}\n",
    "    "
   ]
  },
  {
   "cell_type": "markdown",
   "metadata": {},
   "source": [
    "### Using `Profiler`\n",
    "Here is a sample code that showcases the usage of the profiler class. We generate random array of 5000 numbers between 0 and 10000, and use the built-in quick sort function of python to sort these numbers. You can checkout the output of profiler."
   ]
  },
  {
   "cell_type": "code",
   "execution_count": 136,
   "metadata": {},
   "outputs": [
    {
     "data": {
      "text/html": [
       "<b>Average time taken:</b> 0.001057 seconds"
      ],
      "text/plain": [
       "<IPython.core.display.HTML object>"
      ]
     },
     "metadata": {},
     "output_type": "display_data"
    },
    {
     "data": {
      "text/html": [
       "<b>Average memory used:</b> 0.059586 MB"
      ],
      "text/plain": [
       "<IPython.core.display.HTML object>"
      ]
     },
     "metadata": {},
     "output_type": "display_data"
    }
   ],
   "source": [
    "from random import randint\n",
    "\n",
    "class QuickSort:\n",
    "    def sort(self, data):\n",
    "        return sorted(data)\n",
    "\n",
    "data = [randint(0, 10000) for _ in range(5000)]\n",
    "quick_sort = QuickSort()\n",
    "profiler = Profiler()\n",
    "profiler_results = profiler.profile(quick_sort, data, display_pretty_output=True)\n"
   ]
  },
  {
   "cell_type": "code",
   "execution_count": 137,
   "metadata": {},
   "outputs": [
    {
     "data": {
      "text/plain": [
       "{'time': 0.0010565757751464845, 'memory': 0.059585599999999996}"
      ]
     },
     "execution_count": 137,
     "metadata": {},
     "output_type": "execute_result"
    }
   ],
   "source": [
    "profiler_results"
   ]
  },
  {
   "cell_type": "markdown",
   "metadata": {},
   "source": [
    "<hr>"
   ]
  },
  {
   "cell_type": "markdown",
   "metadata": {},
   "source": [
    "## Using the `Profiler` to Analyze the Performance of Sorting Algorithms"
   ]
  },
  {
   "cell_type": "markdown",
   "metadata": {},
   "source": [
    "In this section, you are going to analyze the performance of your implemented methods, and compare them with eachother, alongside built-in sort functions provided by Python. \n",
    "\n",
    "**Note that the baseline quick-sort algorithm is expected to outperform the 3 algorithms you implemented, since it has an average complexity of `O(nlogn)`.**"
   ]
  },
  {
   "cell_type": "markdown",
   "metadata": {},
   "source": [
    "### Generate Input Data for Profiling\n",
    "You now need to generate input data for profiling. You must define arrays of random numbers numbers between `0 and 1,000,000`, that their length ranges from 100 to 100,000,000 (100 Millions). The length range should be on logarithmic scale. (ex. A sequence of [128, 256, 1024, 2048, 4096] is defined on a logarithmic scale). The **number of inputted arrays** must be `1000`. (In other words, you should generate 1000 arrays, that their length ranges from 100 to 100 Millions, and the space between lengths is logarithmic. Numpy has functions for generating numbers on logspace). The below code is an example of generating an array of 8M random numbers in the range of [0, 1M)."
   ]
  },
  {
   "cell_type": "code",
   "execution_count": 138,
   "metadata": {},
   "outputs": [
    {
     "data": {
      "text/plain": [
       "'Length of Array: 8000000'"
      ]
     },
     "metadata": {},
     "output_type": "display_data"
    },
    {
     "data": {
      "text/plain": [
       "[41125, 898270, 128439, 995668, 570027, 97554, 502761, 76441, 63707, 932717]"
      ]
     },
     "metadata": {},
     "output_type": "display_data"
    }
   ],
   "source": [
    "from random import randint\n",
    "\n",
    "class QuickSort:\n",
    "    def sort(self, data):\n",
    "        return sorted(data)\n",
    "\n",
    "data = [randint(0, 1_000_000) for _ in range(8_000_000)]    # Generate array of length 8 Million, with random numbers between 0 and 1 Millions\n",
    "\n",
    "display(f'Length of Array: {len(data)}')\n",
    "display(data[:10])"
   ]
  },
  {
   "cell_type": "code",
   "execution_count": 139,
   "metadata": {},
   "outputs": [
    {
     "ename": "TypeError",
     "evalue": "'NoneType' object is not iterable",
     "output_type": "error",
     "traceback": [
      "\u001b[0;31m---------------------------------------------------------------------------\u001b[0m",
      "\u001b[0;31mTypeError\u001b[0m                                 Traceback (most recent call last)",
      "\u001b[1;32m/Users/dino/Desktop/python-beginner-level-task/sorting_algorithms.ipynb Cell 40\u001b[0m in \u001b[0;36m<cell line: 15>\u001b[0;34m()\u001b[0m\n\u001b[1;32m     <a href='vscode-notebook-cell:/Users/dino/Desktop/python-beginner-level-task/sorting_algorithms.ipynb#Y111sZmlsZQ%3D%3D?line=10'>11</a>\u001b[0m     \u001b[39mpass\u001b[39;00m\n\u001b[1;32m     <a href='vscode-notebook-cell:/Users/dino/Desktop/python-beginner-level-task/sorting_algorithms.ipynb#Y111sZmlsZQ%3D%3D?line=13'>14</a>\u001b[0m length_array \u001b[39m=\u001b[39m generate_length_array()\n\u001b[0;32m---> <a href='vscode-notebook-cell:/Users/dino/Desktop/python-beginner-level-task/sorting_algorithms.ipynb#Y111sZmlsZQ%3D%3D?line=14'>15</a>\u001b[0m test_set \u001b[39m=\u001b[39m [generate_input_arrays(length) \u001b[39mfor\u001b[39;00m length \u001b[39min\u001b[39;00m length_array]\n",
      "\u001b[0;31mTypeError\u001b[0m: 'NoneType' object is not iterable"
     ]
    }
   ],
   "source": [
    "# TODO Generate 1000 input arrays on log scale\n",
    "\n",
    "def generate_input_arrays(length):\n",
    "    # TODO Implement this\n",
    "    return []\n",
    "    pass\n",
    "\n",
    "def generate_length_array():\n",
    "    # TODO Generate a list that contains array lengths on a log scale for test set. \n",
    "    # The output shoud be a sorted list of numbers (array lengths), ranging from 100 to 100_000_000. The size of list must be 1000 (which is the fixed size of test set)\n",
    "    # Ex. A sequence of [128, 256, 1024, 2048, 4096] is defined on a logarithmic scale\n",
    "    return []\n",
    "    pass\n",
    "\n",
    "\n",
    "length_array = generate_length_array()\n",
    "test_set = [generate_input_arrays(length) for length in length_array]"
   ]
  },
  {
   "cell_type": "markdown",
   "metadata": {},
   "source": [
    "<hr>"
   ]
  },
  {
   "cell_type": "markdown",
   "metadata": {},
   "source": [
    "## Profiling and Performance Measure\n",
    "Now you have things set-up for comparing the performance of sorting algorithms, on inputs of different size. You have generated a test set of 1000 different inputs, with varying lengths. Now you will give each input array to the profiler, save the report of time and memory usage, and aggregate the data at the end. Do this for each of the 3 algorithms + the built-in quicksort algorithm as baseline. "
   ]
  },
  {
   "cell_type": "code",
   "execution_count": null,
   "metadata": {},
   "outputs": [],
   "source": [
    "# Generate an object for each sorting algorithm\n",
    "\n",
    "# Implemented Algorithms\n",
    "selection_sort = SelectionSort()\n",
    "insertion_sort = InsertionSort()\n",
    "bubble_sort = BubbleSort()\n",
    "\n",
    "# Baseline Built-in Python Sort\n",
    "quick_sort = QuickSort()"
   ]
  },
  {
   "cell_type": "code",
   "execution_count": null,
   "metadata": {},
   "outputs": [],
   "source": [
    "# TODO Run sorting algorithms on generated test set, using the `Profiler` class, store the profiling data (time and memory) so you can compare the algorithms in the next step"
   ]
  },
  {
   "cell_type": "markdown",
   "metadata": {},
   "source": [
    "## Visualization of Time & Space Complexity Difference\n",
    "\n",
    "Using the profiling data gathered from previous step, and tools such as `matplotlib`, draw two different curve plots to:\n",
    "A. Compare time complexity of 3+1 algorithms\n",
    "B. Compare space complexity (memory usage) of 3+1 algorithms\n",
    "\n",
    "The X axis of each plot should be the input size (which was required to be on spaced on a log-scale), and the Y axis should be the time taken for sorting (in seconds) for the first plot, and the memory space used (in MB) for the second plot. "
   ]
  },
  {
   "cell_type": "code",
   "execution_count": null,
   "metadata": {},
   "outputs": [],
   "source": [
    "# TODO Draw the input size vs sorting time plot"
   ]
  },
  {
   "cell_type": "code",
   "execution_count": null,
   "metadata": {},
   "outputs": [],
   "source": [
    "# TODO Draw the input size vs memory usage plot"
   ]
  },
  {
   "cell_type": "markdown",
   "metadata": {},
   "source": [
    "<hr>"
   ]
  },
  {
   "cell_type": "markdown",
   "metadata": {},
   "source": [
    "# Interpreting the Results\n",
    "If you see difference between the pattern of time complexity, or space complexity, between the 3 different algorithms, describe your idea of the reason behind the difference. "
   ]
  },
  {
   "cell_type": "markdown",
   "metadata": {},
   "source": [
    "Explain your interpretation here."
   ]
  }
 ],
 "metadata": {
  "kernelspec": {
   "display_name": "Python 3",
   "language": "python",
   "name": "python3"
  },
  "language_info": {
   "codemirror_mode": {
    "name": "ipython",
    "version": 3
   },
   "file_extension": ".py",
   "mimetype": "text/x-python",
   "name": "python",
   "nbconvert_exporter": "python",
   "pygments_lexer": "ipython3",
   "version": "3.9.12"
  },
  "orig_nbformat": 4
 },
 "nbformat": 4,
 "nbformat_minor": 2
}
